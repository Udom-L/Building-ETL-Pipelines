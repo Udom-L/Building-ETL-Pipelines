{
 "cells": [
  {
   "cell_type": "markdown",
   "metadata": {},
   "source": [
    "## Building ETL Pipelines\n",
    "\n",
    "> This document of fundamental ETL pipeline is directly referenced from [Buliding ETL pipeline's article of freecodecamp](https://www.freecodecamp.org/news/sqlalchemy-makes-etl-magically-easy-ab2bd0df928/) written by Peter Gleeson. "
   ]
  },
  {
   "cell_type": "markdown",
   "metadata": {},
   "source": [
    "## Defining a schema\n",
    "\n",
    "A __database schema defines the structure of a database system, in terms of tables, columns, fields, and the relationships between them.__ \n",
    "\n",
    "Schemas can be defined in raw SQL, or through the use of SQLAlchemy’s ORM feature.\n",
    "\n",
    "Below is an example showing how to define a schema of two tables for an imaginary blogging platform. __One is a table of users, and the other is a table of posts uploaded.__"
   ]
  },
  {
   "cell_type": "markdown",
   "metadata": {},
   "source": [
    "1. First, __import__ everything you need from SQLAlchemy. Then, use __`create_engine(connection_string)` to connect to your database.__\n",
    "\n",
    "\n",
    "2. Next, __start defining your table classes.__ \n",
    "    - __The first one in the example is `Users`.__ __Each column in this table is defined as a class variable__ using SQLAlchemy’s `Column(type)`, where type is a data type (such as `Integer`, `String`, `DateTime` and so on). __Use `primary_key=True` to denote columns which will be used as primary keys.__\n",
    "    - __The next table defined here is `Uploads`.__ It’s very much the same idea — each column is defined as before.\n",
    "    \n",
    "The final two lines actually create the tables. The __`checkfirst=True` parameter ensures that new tables are only created if they do not currently exist in the database.__"
   ]
  },
  {
   "cell_type": "code",
   "execution_count": 1,
   "metadata": {},
   "outputs": [],
   "source": [
    "%rm demo.db\n",
    "from sqlalchemy import *\n",
    "from sqlalchemy.ext.declarative import declarative_base\n",
    "from sqlalchemy.orm import sessionmaker\n",
    "from sqlalchemy.sql import *\n",
    "\n",
    "engine = create_engine('sqlite:///demo.db')\n",
    "Base = declarative_base()\n",
    "\n",
    "class Users(Base):\n",
    "    __tablename__ = \"users\"\n",
    "    UserId = Column(Integer, primary_key=True)\n",
    "    Title = Column(String)\n",
    "    FirstName = Column(String)\n",
    "    LastName = Column(String)\n",
    "    Email = Column(String)\n",
    "    Username = Column(String)\n",
    "    DOB = Column(DateTime)\n",
    "\n",
    "class Uploads(Base):\n",
    "    __tablename__ = \"uploads\"\n",
    "    UploadId = Column(Integer, primary_key=True)\n",
    "    UserId = Column(Integer)\n",
    "    Title = Column(String)\n",
    "    Body = Column(String)\n",
    "    Timestamp = Column(DateTime)\n",
    "\n",
    "Users.__table__.create(bind=engine, checkfirst=True)\n",
    "Uploads.__table__.create(bind=engine, checkfirst=True)"
   ]
  },
  {
   "cell_type": "code",
   "execution_count": 2,
   "metadata": {},
   "outputs": [
    {
     "data": {
      "text/plain": [
       "Table('users', MetaData(bind=None), Column('UserId', Integer(), table=<users>, primary_key=True, nullable=False), Column('Title', String(), table=<users>), Column('FirstName', String(), table=<users>), Column('LastName', String(), table=<users>), Column('Email', String(), table=<users>), Column('Username', String(), table=<users>), Column('DOB', DateTime(), table=<users>), schema=None)"
      ]
     },
     "execution_count": 2,
     "metadata": {},
     "output_type": "execute_result"
    }
   ],
   "source": [
    "Users.__table__"
   ]
  },
  {
   "cell_type": "code",
   "execution_count": 3,
   "metadata": {},
   "outputs": [
    {
     "data": {
      "text/plain": [
       "Table('uploads', MetaData(bind=None), Column('UploadId', Integer(), table=<uploads>, primary_key=True, nullable=False), Column('UserId', Integer(), table=<uploads>), Column('Title', String(), table=<uploads>), Column('Body', String(), table=<uploads>), Column('Timestamp', DateTime(), table=<uploads>), schema=None)"
      ]
     },
     "execution_count": 3,
     "metadata": {},
     "output_type": "execute_result"
    }
   ],
   "source": [
    "Uploads.__table__"
   ]
  },
  {
   "cell_type": "markdown",
   "metadata": {},
   "source": [
    " "
   ]
  },
  {
   "cell_type": "markdown",
   "metadata": {},
   "source": [
    "## Extract"
   ]
  },
  {
   "cell_type": "markdown",
   "metadata": {},
   "source": [
    "Once the schema has been defined, the next task is to __extract the raw data from its source.__ The exact details can vary wildly from case to case, depending on how the raw data is provided. Maybe your app calls an in-house or third-party API, or perhaps you need to read data logged in a CSV file.\n",
    "\n",
    "The example below __uses two APIs to simulate data for the fictional blogging platform__ described above. \n",
    "\n",
    "- __The Users table will be populated with profiles randomly generated at `randomuser.me`__, and \n",
    "\n",
    "- __the Uploads table will contain psudo-inspired data courtesy of `JSONPlaceholder`.__\n",
    "\n",
    "Python’s __`Requests` module can be used to call these APIs__, as shown below:"
   ]
  },
  {
   "cell_type": "code",
   "execution_count": 4,
   "metadata": {},
   "outputs": [],
   "source": [
    "import requests\n",
    "\n",
    "url = 'https://randomuser.me/api/?results=10'\n",
    "users_json = requests.get(url).json()\n",
    "url2 = 'https://jsonplaceholder.typicode.com/posts/'\n",
    "uploads_json = requests.get(url2).json()"
   ]
  },
  {
   "cell_type": "markdown",
   "metadata": {},
   "source": [
    "__The data is currently held in two objects (`users_json` and `uploads_json`) in JSON format.__ The next step will be to transform and load this data into the tables defined earlier."
   ]
  },
  {
   "cell_type": "code",
   "execution_count": 24,
   "metadata": {},
   "outputs": [
    {
     "data": {
      "text/plain": [
       "[{'userId': 1,\n",
       "  'id': 1,\n",
       "  'title': 'sunt aut facere repellat provident occaecati excepturi optio reprehenderit',\n",
       "  'body': 'quia et suscipit\\nsuscipit recusandae consequuntur expedita et cum\\nreprehenderit molestiae ut ut quas totam\\nnostrum rerum est autem sunt rem eveniet architecto'},\n",
       " {'userId': 1,\n",
       "  'id': 2,\n",
       "  'title': 'qui est esse',\n",
       "  'body': 'est rerum tempore vitae\\nsequi sint nihil reprehenderit dolor beatae ea dolores neque\\nfugiat blanditiis voluptate porro vel nihil molestiae ut reiciendis\\nqui aperiam non debitis possimus qui neque nisi nulla'}]"
      ]
     },
     "execution_count": 24,
     "metadata": {},
     "output_type": "execute_result"
    }
   ],
   "source": [
    "uploads_json[0:2]"
   ]
  },
  {
   "cell_type": "markdown",
   "metadata": {},
   "source": [
    " "
   ]
  },
  {
   "cell_type": "markdown",
   "metadata": {},
   "source": [
    "## Transform"
   ]
  },
  {
   "cell_type": "markdown",
   "metadata": {},
   "source": [
    "__Before the data can be loaded into the database, it is important to ensure that it is in the correct format.__ \n",
    "\n",
    "- __The JSON objects created in the code above are nested, and contain more data than is required for the tables defined.__\n",
    "\n",
    "\n",
    "- __An important intermediary step is to \"transform\" the data__ __\"<u>from its current nested JSON</u>\" format <u>to a \"FLAT format\"</u> that can be safely written to the database without error.__\n",
    "\n",
    "However, our data are relatively simple, and won’t need much transformation. The code below creates two lists: `users` and `uploads`, are used for final steps.\n",
    "\n",
    "\n",
    "1. __The main step here is to iterate through the JSON objects created before.__ \n",
    "\n",
    "    - __For each result, create a new Python dictionary object with keys corresponding to each column defined for the relevant table in the schema.__ \n",
    "    \n",
    "    - __This ensures that the data is no longer nested, and keeps only the data needed for the tables.__\n",
    "    \n",
    "    \n",
    "2. __The other step is to use Python’s `datetime` module to manipulate dates, and transform them into `DateTime type objects` that can be written to the database.__ \n",
    "\n",
    "    - For the sake of this example, random `DateTime` objects are generated using the `timedelta()` method from Python’s DateTime module."
   ]
  },
  {
   "cell_type": "code",
   "execution_count": 5,
   "metadata": {},
   "outputs": [],
   "source": [
    "from datetime import datetime, timedelta\n",
    "from random import randint\n",
    "\n",
    "users, uploads = [], []\n",
    "\n",
    "for i, result in enumerate(users_json['results']):\n",
    "    row = {}\n",
    "    row['UserId'] = i\n",
    "    row['Title'] = result['name']['title']\n",
    "    row['FirstName'] = result['name']['first']\n",
    "    row['LastName'] = result['name']['last']\n",
    "    row['Email'] = result['email']\n",
    "    row['Username'] = result['login']['username']\n",
    "    dob = datetime.strptime(result['dob']['date'],'%Y-%m-%dT%H:%M:%S.%fZ') \n",
    "#     dob = datetime.strptime(result['dob'],'%Y-%m-%d %H:%M:%S')    \n",
    "    row['DOB'] = dob.date()\n",
    "    \n",
    "    users.append(row)\n",
    "    \n",
    "for result in uploads_json:\n",
    "    row = {}\n",
    "    row['UploadId'] = result['id']\n",
    "    row['UserId'] = result['userId']\n",
    "    row['Title'] = result['title']\n",
    "    row['Body'] = result['body']\n",
    "    delta = timedelta(seconds=randint(1,86400))\n",
    "    row['Timestamp'] = datetime.now() - delta\n",
    "    \n",
    "    uploads.append(row)"
   ]
  },
  {
   "cell_type": "code",
   "execution_count": 6,
   "metadata": {},
   "outputs": [
    {
     "data": {
      "text/plain": [
       "datetime.date(1980, 9, 16)"
      ]
     },
     "execution_count": 6,
     "metadata": {},
     "output_type": "execute_result"
    }
   ],
   "source": [
    "dob.date()"
   ]
  },
  {
   "cell_type": "markdown",
   "metadata": {},
   "source": [
    " "
   ]
  },
  {
   "cell_type": "markdown",
   "metadata": {},
   "source": [
    "## Load"
   ]
  },
  {
   "cell_type": "markdown",
   "metadata": {},
   "source": [
    "Finally, the __data is in a form that can be loaded into the database.__ SQLAlchemy __makes this step straightforward through its Session API.__\n",
    "\n",
    "- The __Session API__ acts a bit like a middleman, or __“holding zone,” for Python objects__ that you have either loaded from or associated with the database. \n",
    "__These objects can be manipulated within the session before being committed (i.e. carried out) to the database.__\n",
    "\n",
    "\n",
    "- __The code below creates a new session object, adds rows to it, then merges and commits them to the database:__"
   ]
  },
  {
   "cell_type": "code",
   "execution_count": 7,
   "metadata": {},
   "outputs": [],
   "source": [
    "Session = sessionmaker(bind=engine)\n",
    "session = Session()\n",
    "\n",
    "for user in users:\n",
    "    row = Users(**user)\n",
    "    session.add(row)\n",
    "    \n",
    "for upload in uploads:\n",
    "    row = Uploads(**upload)\n",
    "    session.add(row)\n",
    "\n",
    "session.commit()"
   ]
  },
  {
   "cell_type": "code",
   "execution_count": 8,
   "metadata": {},
   "outputs": [
    {
     "data": {
      "text/plain": [
       "<sqlalchemy.orm.session.Session at 0x10301fd50>"
      ]
     },
     "execution_count": 8,
     "metadata": {},
     "output_type": "execute_result"
    }
   ],
   "source": [
    "session"
   ]
  },
  {
   "cell_type": "markdown",
   "metadata": {},
   "source": [
    "- __The `sessionmaker` factory is used to generate newly-configured `Session` classes.__ \n",
    "    `Session` is an everyday Python class that is instantiated on the second line as `session`.\n",
    "    \n",
    "    \n",
    "- __Next up are two loops which iterate through the `users` and `uploads` lists created earlier.__ __The elements of these lists are dictionary objects__ whose keys correspond to the columns __given in the `Users` and `Uploads`__ classes defined previously.\n",
    "\n",
    "\n",
    "- __Each object is used to instantiate a new instance of the relevant class__ (using Python’s handy `some_function(**some_dict)` trick). __This object is added to the current session with `session.add()`.__\n",
    "\n",
    "\n",
    "__Finally__, when the session contains the rows to be added, __`session.commit(`) is used to commit the transaction to the database.__"
   ]
  },
  {
   "cell_type": "markdown",
   "metadata": {},
   "source": [
    " "
   ]
  },
  {
   "cell_type": "markdown",
   "metadata": {},
   "source": [
    "## Aggregating"
   ]
  },
  {
   "cell_type": "markdown",
   "metadata": {},
   "source": [
    "Different versions of SQL have somewhat incompatible syntaxes, but __SQLAlchemy’s Expression Language__ acts as a __lingua franca (common language)__ between them.\n",
    "\n",
    "\n",
    "Once the basic `Users` and `Uploads` tables have been created and populated, a next step might be to __create an aggregated table:__\n",
    "\n",
    "- __for instance, showing how many articles each user has posted, and the time they were last active. First, define a class for the aggregated table:__"
   ]
  },
  {
   "cell_type": "code",
   "execution_count": 9,
   "metadata": {},
   "outputs": [],
   "source": [
    "class UploadCounts(Base):\n",
    "    __tablename__ = \"upload_counts\"\n",
    "    UserId = Column(Integer, primary_key=True)\n",
    "    LastActive = Column(DateTime)\n",
    "    PostCount = Column(Integer)\n",
    "\n",
    "UploadCounts.__table__.create(bind=engine, checkfirst=True)"
   ]
  },
  {
   "cell_type": "markdown",
   "metadata": {},
   "source": [
    "This table will have __three columns__. __For each `UserId`, it will store the timestamp of when they were last active, and a count of how many posts they have uploaded.__\n",
    "\n",
    "In plain SQL, this table would be populated using a query along the lines of:"
   ]
  },
  {
   "cell_type": "code",
   "execution_count": null,
   "metadata": {},
   "outputs": [],
   "source": [
    "\"\"\"\n",
    "INSERT INTO upload_counts\n",
    "SELECT\n",
    "  UserId,\n",
    "  MAX(Timestamp) AS LastActive,\n",
    "  COUNT(UploadId) AS PostCount\n",
    "FROM\n",
    "  uploads\n",
    "GROUP BY 1;\n",
    "\"\"\""
   ]
  },
  {
   "cell_type": "markdown",
   "metadata": {},
   "source": [
    "In SQLAlchemy, this would be written as:"
   ]
  },
  {
   "cell_type": "code",
   "execution_count": 10,
   "metadata": {},
   "outputs": [],
   "source": [
    "connection = engine.connect()\n",
    "\n",
    "query = select([Uploads.UserId,\n",
    "    func.max(Uploads.Timestamp).label('LastActive'),\n",
    "    func.count(Uploads.UploadId).label('PostCount')]).\\\n",
    "    group_by('UserId')\n",
    "\n",
    "results = connection.execute(query)\n",
    "\n",
    "for result in results:\n",
    "    row = UploadCounts(**result)\n",
    "    session.add(row)\n",
    "    \n",
    "session.commit()"
   ]
  },
  {
   "cell_type": "markdown",
   "metadata": {},
   "source": [
    "__The first line creates a `Connection` object using the engine object’s `connect()` method.__ Next, a query is defined using the `select()` function.\n",
    "\n",
    "- Similarly to SQL version given above, it `selects` the `UserId` column from the `uploads` table. It also applies `func.max()` to the `Timestamp` column, which identifies the most recent timestamp. This is labelled `LastActive` using the `label()` method.\n",
    "\n",
    "\n",
    "- Likewise, the query applies `func.count()` to count the number of records that appear in the Title column. This is labelled `PostCount`.\n",
    "\n",
    "\n",
    "- Finally, the query uses `group_by()` to group results by `UserId`.\n",
    "\n",
    "\n",
    "\n",
    "__To use the results of the query, a for-loop iterates over the row objects returned by `connection.execute(query)`.__\n",
    "\n",
    "__Each row is used to instantiate an instance of the `UploadCounts` table class. As before, each row is added to the `session` object, and finally the `session` is `committed` to the database.__"
   ]
  },
  {
   "cell_type": "markdown",
   "metadata": {},
   "source": [
    "*** \n",
    "\n",
    "## Check database out\n",
    "\n",
    "Now we can check that the data have been written correctly into the `demo.db` database created earlier. Here's seen below:"
   ]
  },
  {
   "cell_type": "code",
   "execution_count": 11,
   "metadata": {},
   "outputs": [
    {
     "name": "stdout",
     "output_type": "stream",
     "text": [
      "\u001b[1m\u001b[36mETL Pipeline\u001b[m\u001b[m/            \u001b[34mdb_credentials.py\u001b[m\u001b[m*       \u001b[1m\u001b[36mpythondataanalysis-main\u001b[m\u001b[m/\r\n",
      "\u001b[34mETL Pipelines.ipynb\u001b[m\u001b[m*     demo.db                  \u001b[1m\u001b[36msqlalchemy-demo\u001b[m\u001b[m/\r\n",
      "\u001b[1m\u001b[36m__pycache__\u001b[m\u001b[m/             \u001b[34metl.py\u001b[m\u001b[m*                  \u001b[34msub_queries.py\u001b[m\u001b[m*\r\n",
      "data.db                  \u001b[34mmain.py\u001b[m\u001b[m*\r\n"
     ]
    }
   ],
   "source": [
    "ls"
   ]
  },
  {
   "cell_type": "code",
   "execution_count": 12,
   "metadata": {},
   "outputs": [
    {
     "data": {
      "text/plain": [
       "<sqlite3.Connection at 0x11924ab90>"
      ]
     },
     "execution_count": 12,
     "metadata": {},
     "output_type": "execute_result"
    }
   ],
   "source": [
    "import sqlite3\n",
    "import pandas as pd   \n",
    "dat = sqlite3.connect('demo.db')\n",
    "dat"
   ]
  },
  {
   "cell_type": "code",
   "execution_count": 13,
   "metadata": {},
   "outputs": [
    {
     "data": {
      "text/html": [
       "<div>\n",
       "<style scoped>\n",
       "    .dataframe tbody tr th:only-of-type {\n",
       "        vertical-align: middle;\n",
       "    }\n",
       "\n",
       "    .dataframe tbody tr th {\n",
       "        vertical-align: top;\n",
       "    }\n",
       "\n",
       "    .dataframe thead th {\n",
       "        text-align: right;\n",
       "    }\n",
       "</style>\n",
       "<table border=\"1\" class=\"dataframe\">\n",
       "  <thead>\n",
       "    <tr style=\"text-align: right;\">\n",
       "      <th></th>\n",
       "      <th>UserId</th>\n",
       "      <th>Title</th>\n",
       "      <th>FirstName</th>\n",
       "      <th>LastName</th>\n",
       "      <th>Email</th>\n",
       "      <th>Username</th>\n",
       "      <th>DOB</th>\n",
       "    </tr>\n",
       "  </thead>\n",
       "  <tbody>\n",
       "    <tr>\n",
       "      <th>0</th>\n",
       "      <td>0</td>\n",
       "      <td>Mrs</td>\n",
       "      <td>Sumana</td>\n",
       "      <td>Mathew</td>\n",
       "      <td>sumana.mathew@example.com</td>\n",
       "      <td>bigfrog691</td>\n",
       "      <td>1994-08-24 00:00:00.000000</td>\n",
       "    </tr>\n",
       "    <tr>\n",
       "      <th>1</th>\n",
       "      <td>1</td>\n",
       "      <td>Miss</td>\n",
       "      <td>Deusete</td>\n",
       "      <td>Nunes</td>\n",
       "      <td>deusete.nunes@example.com</td>\n",
       "      <td>redbear183</td>\n",
       "      <td>1964-05-02 00:00:00.000000</td>\n",
       "    </tr>\n",
       "    <tr>\n",
       "      <th>2</th>\n",
       "      <td>2</td>\n",
       "      <td>Mr</td>\n",
       "      <td>Richard</td>\n",
       "      <td>Davis</td>\n",
       "      <td>richard.davis@example.com</td>\n",
       "      <td>redpeacock709</td>\n",
       "      <td>1978-11-02 00:00:00.000000</td>\n",
       "    </tr>\n",
       "    <tr>\n",
       "      <th>3</th>\n",
       "      <td>3</td>\n",
       "      <td>Monsieur</td>\n",
       "      <td>Ahmad</td>\n",
       "      <td>Renard</td>\n",
       "      <td>ahmad.renard@example.com</td>\n",
       "      <td>tinysnake321</td>\n",
       "      <td>1996-06-11 00:00:00.000000</td>\n",
       "    </tr>\n",
       "    <tr>\n",
       "      <th>4</th>\n",
       "      <td>4</td>\n",
       "      <td>Mr</td>\n",
       "      <td>Quinn</td>\n",
       "      <td>Johnson</td>\n",
       "      <td>quinn.johnson@example.com</td>\n",
       "      <td>smalltiger254</td>\n",
       "      <td>1945-11-06 00:00:00.000000</td>\n",
       "    </tr>\n",
       "  </tbody>\n",
       "</table>\n",
       "</div>"
      ],
      "text/plain": [
       "   UserId     Title FirstName LastName                      Email  \\\n",
       "0       0       Mrs    Sumana   Mathew  sumana.mathew@example.com   \n",
       "1       1      Miss   Deusete    Nunes  deusete.nunes@example.com   \n",
       "2       2        Mr   Richard    Davis  richard.davis@example.com   \n",
       "3       3  Monsieur     Ahmad   Renard   ahmad.renard@example.com   \n",
       "4       4        Mr     Quinn  Johnson  quinn.johnson@example.com   \n",
       "\n",
       "        Username                         DOB  \n",
       "0     bigfrog691  1994-08-24 00:00:00.000000  \n",
       "1     redbear183  1964-05-02 00:00:00.000000  \n",
       "2  redpeacock709  1978-11-02 00:00:00.000000  \n",
       "3   tinysnake321  1996-06-11 00:00:00.000000  \n",
       "4  smalltiger254  1945-11-06 00:00:00.000000  "
      ]
     },
     "execution_count": 13,
     "metadata": {},
     "output_type": "execute_result"
    }
   ],
   "source": [
    "df_users = pd.read_sql_query(\"SELECT * FROM users\", dat)\n",
    "df_users.head()"
   ]
  },
  {
   "cell_type": "code",
   "execution_count": 14,
   "metadata": {},
   "outputs": [
    {
     "data": {
      "text/html": [
       "<div>\n",
       "<style scoped>\n",
       "    .dataframe tbody tr th:only-of-type {\n",
       "        vertical-align: middle;\n",
       "    }\n",
       "\n",
       "    .dataframe tbody tr th {\n",
       "        vertical-align: top;\n",
       "    }\n",
       "\n",
       "    .dataframe thead th {\n",
       "        text-align: right;\n",
       "    }\n",
       "</style>\n",
       "<table border=\"1\" class=\"dataframe\">\n",
       "  <thead>\n",
       "    <tr style=\"text-align: right;\">\n",
       "      <th></th>\n",
       "      <th>UploadId</th>\n",
       "      <th>UserId</th>\n",
       "      <th>Title</th>\n",
       "      <th>Body</th>\n",
       "      <th>Timestamp</th>\n",
       "    </tr>\n",
       "  </thead>\n",
       "  <tbody>\n",
       "    <tr>\n",
       "      <th>0</th>\n",
       "      <td>1</td>\n",
       "      <td>1</td>\n",
       "      <td>sunt aut facere repellat provident occaecati e...</td>\n",
       "      <td>quia et suscipit\\nsuscipit recusandae consequu...</td>\n",
       "      <td>2022-11-10 21:04:44.167559</td>\n",
       "    </tr>\n",
       "    <tr>\n",
       "      <th>1</th>\n",
       "      <td>2</td>\n",
       "      <td>1</td>\n",
       "      <td>qui est esse</td>\n",
       "      <td>est rerum tempore vitae\\nsequi sint nihil repr...</td>\n",
       "      <td>2022-11-10 19:53:12.167580</td>\n",
       "    </tr>\n",
       "    <tr>\n",
       "      <th>2</th>\n",
       "      <td>3</td>\n",
       "      <td>1</td>\n",
       "      <td>ea molestias quasi exercitationem repellat qui...</td>\n",
       "      <td>et iusto sed quo iure\\nvoluptatem occaecati om...</td>\n",
       "      <td>2022-11-11 13:04:23.167589</td>\n",
       "    </tr>\n",
       "    <tr>\n",
       "      <th>3</th>\n",
       "      <td>4</td>\n",
       "      <td>1</td>\n",
       "      <td>eum et est occaecati</td>\n",
       "      <td>ullam et saepe reiciendis voluptatem adipisci\\...</td>\n",
       "      <td>2022-11-11 00:16:46.167598</td>\n",
       "    </tr>\n",
       "    <tr>\n",
       "      <th>4</th>\n",
       "      <td>5</td>\n",
       "      <td>1</td>\n",
       "      <td>nesciunt quas odio</td>\n",
       "      <td>repudiandae veniam quaerat sunt sed\\nalias aut...</td>\n",
       "      <td>2022-11-11 10:49:18.167607</td>\n",
       "    </tr>\n",
       "  </tbody>\n",
       "</table>\n",
       "</div>"
      ],
      "text/plain": [
       "   UploadId  UserId                                              Title  \\\n",
       "0         1       1  sunt aut facere repellat provident occaecati e...   \n",
       "1         2       1                                       qui est esse   \n",
       "2         3       1  ea molestias quasi exercitationem repellat qui...   \n",
       "3         4       1                               eum et est occaecati   \n",
       "4         5       1                                 nesciunt quas odio   \n",
       "\n",
       "                                                Body  \\\n",
       "0  quia et suscipit\\nsuscipit recusandae consequu...   \n",
       "1  est rerum tempore vitae\\nsequi sint nihil repr...   \n",
       "2  et iusto sed quo iure\\nvoluptatem occaecati om...   \n",
       "3  ullam et saepe reiciendis voluptatem adipisci\\...   \n",
       "4  repudiandae veniam quaerat sunt sed\\nalias aut...   \n",
       "\n",
       "                    Timestamp  \n",
       "0  2022-11-10 21:04:44.167559  \n",
       "1  2022-11-10 19:53:12.167580  \n",
       "2  2022-11-11 13:04:23.167589  \n",
       "3  2022-11-11 00:16:46.167598  \n",
       "4  2022-11-11 10:49:18.167607  "
      ]
     },
     "execution_count": 14,
     "metadata": {},
     "output_type": "execute_result"
    }
   ],
   "source": [
    "df_uploads = pd.read_sql_query(\"SELECT * FROM uploads\", dat)\n",
    "df_uploads.head()"
   ]
  },
  {
   "cell_type": "code",
   "execution_count": 15,
   "metadata": {},
   "outputs": [
    {
     "data": {
      "text/html": [
       "<div>\n",
       "<style scoped>\n",
       "    .dataframe tbody tr th:only-of-type {\n",
       "        vertical-align: middle;\n",
       "    }\n",
       "\n",
       "    .dataframe tbody tr th {\n",
       "        vertical-align: top;\n",
       "    }\n",
       "\n",
       "    .dataframe thead th {\n",
       "        text-align: right;\n",
       "    }\n",
       "</style>\n",
       "<table border=\"1\" class=\"dataframe\">\n",
       "  <thead>\n",
       "    <tr style=\"text-align: right;\">\n",
       "      <th></th>\n",
       "      <th>UserId</th>\n",
       "      <th>LastActive</th>\n",
       "      <th>PostCount</th>\n",
       "    </tr>\n",
       "  </thead>\n",
       "  <tbody>\n",
       "    <tr>\n",
       "      <th>0</th>\n",
       "      <td>1</td>\n",
       "      <td>2022-11-11 13:04:23.167589</td>\n",
       "      <td>10</td>\n",
       "    </tr>\n",
       "    <tr>\n",
       "      <th>1</th>\n",
       "      <td>2</td>\n",
       "      <td>2022-11-11 15:59:20.167729</td>\n",
       "      <td>10</td>\n",
       "    </tr>\n",
       "    <tr>\n",
       "      <th>2</th>\n",
       "      <td>3</td>\n",
       "      <td>2022-11-11 10:44:19.167756</td>\n",
       "      <td>10</td>\n",
       "    </tr>\n",
       "    <tr>\n",
       "      <th>3</th>\n",
       "      <td>4</td>\n",
       "      <td>2022-11-11 12:19:15.167872</td>\n",
       "      <td>10</td>\n",
       "    </tr>\n",
       "    <tr>\n",
       "      <th>4</th>\n",
       "      <td>5</td>\n",
       "      <td>2022-11-11 11:27:47.168112</td>\n",
       "      <td>10</td>\n",
       "    </tr>\n",
       "  </tbody>\n",
       "</table>\n",
       "</div>"
      ],
      "text/plain": [
       "   UserId                  LastActive  PostCount\n",
       "0       1  2022-11-11 13:04:23.167589         10\n",
       "1       2  2022-11-11 15:59:20.167729         10\n",
       "2       3  2022-11-11 10:44:19.167756         10\n",
       "3       4  2022-11-11 12:19:15.167872         10\n",
       "4       5  2022-11-11 11:27:47.168112         10"
      ]
     },
     "execution_count": 15,
     "metadata": {},
     "output_type": "execute_result"
    }
   ],
   "source": [
    "df_upload_cnt = pd.read_sql_query(\"SELECT * FROM upload_counts\", dat)\n",
    "df_upload_cnt.head()"
   ]
  },
  {
   "cell_type": "markdown",
   "metadata": {},
   "source": [
    "Now we could use these tables to write queries for further analysis, or to build dashboards for visualisation purposes in the future."
   ]
  },
  {
   "cell_type": "markdown",
   "metadata": {},
   "source": [
    "***"
   ]
  },
  {
   "cell_type": "markdown",
   "metadata": {},
   "source": [
    "## Summary"
   ]
  },
  {
   "cell_type": "code",
   "execution_count": 20,
   "metadata": {},
   "outputs": [
    {
     "data": {
      "text/html": [
       "<div>\n",
       "<style scoped>\n",
       "    .dataframe tbody tr th:only-of-type {\n",
       "        vertical-align: middle;\n",
       "    }\n",
       "\n",
       "    .dataframe tbody tr th {\n",
       "        vertical-align: top;\n",
       "    }\n",
       "\n",
       "    .dataframe thead th {\n",
       "        text-align: right;\n",
       "    }\n",
       "</style>\n",
       "<table border=\"1\" class=\"dataframe\">\n",
       "  <thead>\n",
       "    <tr style=\"text-align: right;\">\n",
       "      <th></th>\n",
       "      <th>UserId</th>\n",
       "      <th>LastActive</th>\n",
       "      <th>PostCount</th>\n",
       "    </tr>\n",
       "  </thead>\n",
       "  <tbody>\n",
       "    <tr>\n",
       "      <th>0</th>\n",
       "      <td>1</td>\n",
       "      <td>2022-11-11 17:17:37.627078</td>\n",
       "      <td>10</td>\n",
       "    </tr>\n",
       "    <tr>\n",
       "      <th>1</th>\n",
       "      <td>2</td>\n",
       "      <td>2022-11-11 17:45:56.627194</td>\n",
       "      <td>10</td>\n",
       "    </tr>\n",
       "    <tr>\n",
       "      <th>2</th>\n",
       "      <td>3</td>\n",
       "      <td>2022-11-11 15:54:07.627306</td>\n",
       "      <td>10</td>\n",
       "    </tr>\n",
       "    <tr>\n",
       "      <th>3</th>\n",
       "      <td>4</td>\n",
       "      <td>2022-11-11 17:52:15.627390</td>\n",
       "      <td>10</td>\n",
       "    </tr>\n",
       "    <tr>\n",
       "      <th>4</th>\n",
       "      <td>5</td>\n",
       "      <td>2022-11-11 17:44:07.627469</td>\n",
       "      <td>10</td>\n",
       "    </tr>\n",
       "  </tbody>\n",
       "</table>\n",
       "</div>"
      ],
      "text/plain": [
       "   UserId                  LastActive  PostCount\n",
       "0       1  2022-11-11 17:17:37.627078         10\n",
       "1       2  2022-11-11 17:45:56.627194         10\n",
       "2       3  2022-11-11 15:54:07.627306         10\n",
       "3       4  2022-11-11 17:52:15.627390         10\n",
       "4       5  2022-11-11 17:44:07.627469         10"
      ]
     },
     "execution_count": 20,
     "metadata": {},
     "output_type": "execute_result"
    }
   ],
   "source": [
    "%rm demo.db\n",
    "from sqlalchemy import *\n",
    "from sqlalchemy.ext.declarative import declarative_base\n",
    "from sqlalchemy.orm import sessionmaker\n",
    "from sqlalchemy.sql import *\n",
    "from random import randint\n",
    "\n",
    "# connect to sqlite database\n",
    "engine = create_engine('sqlite:///demo.db')\n",
    "\n",
    "# define schema\n",
    "Base = declarative_base()\n",
    "\n",
    "class Users(Base):\n",
    "    __tablename__ = \"users\"\n",
    "    UserId = Column(Integer, primary_key=True)\n",
    "    Title = Column(String)\n",
    "    FirstName = Column(String)\n",
    "    LastName = Column(String)\n",
    "    Email = Column(String)\n",
    "    Username = Column(String)\n",
    "    DOB = Column(DateTime)\n",
    "\n",
    "class Uploads(Base):\n",
    "    __tablename__ = \"uploads\"\n",
    "    UploadId = Column(Integer, primary_key=True)\n",
    "    UserId = Column(Integer)\n",
    "    Title = Column(String)\n",
    "    Body = Column(String)\n",
    "    Timestamp = Column(DateTime)\n",
    "\n",
    "# create tables\n",
    "Users.__table__.create(bind=engine, checkfirst=True)\n",
    "Uploads.__table__.create(bind=engine, checkfirst=True)\n",
    "\n",
    "# extract simulated data\n",
    "import requests\n",
    "\n",
    "url = 'https://randomuser.me/api/?results=10'\n",
    "users_json = requests.get(url).json()\n",
    "\n",
    "url2 = 'https://jsonplaceholder.typicode.com/posts/'\n",
    "uploads_json = requests.get(url2).json()\n",
    "\n",
    "# transform data, ready for loading stage\n",
    "from datetime import datetime, timedelta\n",
    "\n",
    "users, uploads = [], []\n",
    "\n",
    "for i, result in enumerate(users_json['results']):\n",
    "    row = {}\n",
    "    row['UserId'] = i\n",
    "    row['Title'] = result['name']['title']\n",
    "    row['FirstName'] = result['name']['first']\n",
    "    row['LastName'] = result['name']['last']\n",
    "    row['Email'] = result['email']\n",
    "    row['Username'] = result['login']['username']\n",
    "    dob = datetime.strptime(result['dob']['date'],'%Y-%m-%dT%H:%M:%S.%fZ') \n",
    "    row['DOB'] = dob.date()\n",
    "    users.append(row)\n",
    "\n",
    "for result in uploads_json:\n",
    "    row = {}\n",
    "    row['UploadId'] = result['id']\n",
    "    row['UserId'] = result['userId']\n",
    "    row['Title'] = result['title']\n",
    "    row['Body'] = result['body']\n",
    "    delta = timedelta(seconds=randint(1,86400))\n",
    "    row['Timestamp'] = datetime.now() - delta\n",
    "    uploads.append(row)\n",
    "\n",
    "# create new Session and commit to database\n",
    "Session = sessionmaker(bind=engine)\n",
    "session = Session()\n",
    "\n",
    "for user in users:\n",
    "    row = Users(**user)\n",
    "    session.add(row)\n",
    "\n",
    "for upload in uploads:\n",
    "    row = Uploads(**upload)\n",
    "    session.add(row)\n",
    "\n",
    "session.commit()\n",
    "\n",
    "# Aggregations\n",
    "# define new table\n",
    "class UploadCounts(Base):\n",
    "    __tablename__ = \"upload_counts\"\n",
    "    UserId = Column(Integer, primary_key=True)\n",
    "    LastActive = Column(DateTime)\n",
    "    PostCount = Column(Integer)\n",
    "\n",
    "# create table\n",
    "UploadCounts.__table__.create(bind=engine, checkfirst=True)\n",
    "\n",
    "# connect to database and execute query\n",
    "connection = engine.connect()\n",
    "\n",
    "query = select([Uploads.UserId,\n",
    "    func.max(Uploads.Timestamp).label('LastActive'),\n",
    "    func.count(Uploads.UploadId).label('PostCount')]).group_by('UserId')\n",
    "\n",
    "results = connection.execute(query)\n",
    "\n",
    "# loop through results and commit to aggregates table\n",
    "for result in results:  \n",
    "    row = UploadCounts(**result)\n",
    "    session.add(row)\n",
    "\n",
    "session.commit()\n",
    "session.close()\n",
    "\n",
    "\n",
    "# Display the aggregated table\n",
    "dat = sqlite3.connect('demo.db')\n",
    "df_upload_cnt = pd.read_sql_query(\"SELECT * FROM upload_counts\", dat)\n",
    "df_upload_cnt.head()"
   ]
  },
  {
   "cell_type": "markdown",
   "metadata": {},
   "source": [
    "***"
   ]
  }
 ],
 "metadata": {
  "kernelspec": {
   "display_name": "Python 3.7",
   "language": "python",
   "name": "envname"
  },
  "language_info": {
   "codemirror_mode": {
    "name": "ipython",
    "version": 3
   },
   "file_extension": ".py",
   "mimetype": "text/x-python",
   "name": "python",
   "nbconvert_exporter": "python",
   "pygments_lexer": "ipython3",
   "version": "3.7.4"
  }
 },
 "nbformat": 4,
 "nbformat_minor": 2
}
